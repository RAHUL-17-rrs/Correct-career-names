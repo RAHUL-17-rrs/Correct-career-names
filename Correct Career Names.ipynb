{
 "cells": [
  {
   "cell_type": "code",
   "execution_count": 1,
   "id": "e3a2fa70-c492-4987-a964-f83d4e894def",
   "metadata": {},
   "outputs": [],
   "source": [
    "import numpy as np\n",
    "import pandas as pd\n",
    "import matplotlib.pyplot as plt"
   ]
  },
  {
   "cell_type": "markdown",
   "id": "33c92670-9372-4127-a4d6-90b4d93875d2",
   "metadata": {},
   "source": [
    "importing pandas,numpy,matplotlib"
   ]
  },
  {
   "cell_type": "code",
   "execution_count": 2,
   "id": "4307f354-936d-48d6-aa07-842984e9dc38",
   "metadata": {},
   "outputs": [],
   "source": [
    "def jaccard_similarity(str1,str2):\n",
    "    set1=set(str1)#converting strings\n",
    "    set2=set(str2)#into set of unique characters\n",
    "    intersection=set1.intersection(set2)#taking intersection\n",
    "    union=set1.union(set2)#taking union\n",
    "    return (len(intersection)/len(union))"
   ]
  },
  {
   "cell_type": "markdown",
   "id": "4de54137-7348-4061-8198-ed9b15a2ac15",
   "metadata": {},
   "source": [
    "Using jaccard similarity algorithm.The Jaccard similarity coefficient, also known as the Jaccard index, is a measure\n",
    "of similarity between two sets. It is defined as the size of the intersection of the two sets divided by the size of the union of the two sets. The Jaccard similarity coefficient ranges from 0, indicating that the two sets have no elements in common, to 1, indicating that the\n",
    "two sets are identical."
   ]
  },
  {
   "cell_type": "code",
   "execution_count": 3,
   "id": "763bea00-9a9a-42f0-964e-6e6938ac6c61",
   "metadata": {},
   "outputs": [],
   "source": [
    "task=pd.read_csv(\"TaskData.csv\")"
   ]
  },
  {
   "cell_type": "markdown",
   "id": "1cf26883-764d-4b0f-a104-3a3a8b8d426f",
   "metadata": {},
   "source": [
    "reading the data provided of TaskData.csv"
   ]
  },
  {
   "cell_type": "code",
   "execution_count": 4,
   "id": "f1d847c8-c68c-42ef-9dc6-574df93f25c9",
   "metadata": {},
   "outputs": [
    {
     "data": {
      "text/html": [
       "<div>\n",
       "<style scoped>\n",
       "    .dataframe tbody tr th:only-of-type {\n",
       "        vertical-align: middle;\n",
       "    }\n",
       "\n",
       "    .dataframe tbody tr th {\n",
       "        vertical-align: top;\n",
       "    }\n",
       "\n",
       "    .dataframe thead th {\n",
       "        text-align: right;\n",
       "    }\n",
       "</style>\n",
       "<table border=\"1\" class=\"dataframe\">\n",
       "  <thead>\n",
       "    <tr style=\"text-align: right;\">\n",
       "      <th></th>\n",
       "      <th>Career</th>\n",
       "    </tr>\n",
       "  </thead>\n",
       "  <tbody>\n",
       "    <tr>\n",
       "      <th>0</th>\n",
       "      <td>cokter</td>\n",
       "    </tr>\n",
       "    <tr>\n",
       "      <th>1</th>\n",
       "      <td>dentiists</td>\n",
       "    </tr>\n",
       "    <tr>\n",
       "      <th>2</th>\n",
       "      <td>Enginir</td>\n",
       "    </tr>\n",
       "    <tr>\n",
       "      <th>3</th>\n",
       "      <td>PoLICE</td>\n",
       "    </tr>\n",
       "    <tr>\n",
       "      <th>4</th>\n",
       "      <td>engneiear</td>\n",
       "    </tr>\n",
       "  </tbody>\n",
       "</table>\n",
       "</div>"
      ],
      "text/plain": [
       "      Career\n",
       "0     cokter\n",
       "1  dentiists\n",
       "2    Enginir\n",
       "3     PoLICE\n",
       "4  engneiear"
      ]
     },
     "execution_count": 4,
     "metadata": {},
     "output_type": "execute_result"
    }
   ],
   "source": [
    "task.head()\n"
   ]
  },
  {
   "cell_type": "code",
   "execution_count": 5,
   "id": "99b8dc07-c49d-452c-8c7c-457e51b91c80",
   "metadata": {},
   "outputs": [],
   "source": [
    "career_options = [\"Doctor\", \"Dentist\", \"Engineer\", \"Police\", \"Nurse\",\n",
    "    \"Teacher\",\"Architect\", \"Accountant\", \"Pharmacist\",\"Lawyer\"]\n",
    "def correct_spelling(misspelled_word):\n",
    "    max_similarity= 0\n",
    "    closest_word = \"\"\n",
    "    \n",
    "    for option in career_options:\n",
    "        similarity = jaccard_similarity(misspelled_word.lower(), option.lower())\n",
    "        if similarity > max_similarity:\n",
    "            max_similarity = similarity\n",
    "            closest_word = option\n",
    "    \n",
    "    return closest_word"
   ]
  },
  {
   "cell_type": "markdown",
   "id": "ad2815a7-1161-4952-af98-9eaeac1c215a",
   "metadata": {},
   "source": [
    "Create a list of correctly spelled career words (the target words). Calculate the Jaccard similaroty between a misspelled word and each word on the target list. The target word with the maximum similarity is likely the intended word."
   ]
  },
  {
   "cell_type": "code",
   "execution_count": 6,
   "id": "dea7d2ce-3b9f-40da-bce3-31662bb7cc9e",
   "metadata": {},
   "outputs": [],
   "source": [
    "correct_task=[correct_spelling(word) for word in task.Career]\n",
    "final_task=pd.DataFrame(correct_task,columns=['Career'])\n",
    "final_task.to_csv('correct_task.csv',index=False)"
   ]
  },
  {
   "cell_type": "markdown",
   "id": "c462e9ea-b6a1-4cb4-84f5-c686c7e31689",
   "metadata": {},
   "source": [
    "we create a new csv file that contains the correct spellings of the career"
   ]
  },
  {
   "cell_type": "code",
   "execution_count": 7,
   "id": "3544efae-934a-4353-acb5-1a0cf9e26dc4",
   "metadata": {},
   "outputs": [
    {
     "name": "stdout",
     "output_type": "stream",
     "text": [
      "{'Doctor': 210, 'Dentist': 192, 'Engineer': 330, 'Police': 162, 'Nurse': 83, 'Teacher': 213, 'Architect': 60, 'Accountant': 32, 'Pharmacist': 42, 'Lawyer': 82}\n"
     ]
    }
   ],
   "source": [
    "def count_multiple_word_occurrences(word_list):\n",
    "    word_count = {}  # Initialize an empty dictionary to store word counts\n",
    "    for word in word_list:  # Iterate through each word in the list\n",
    "        if word in word_count:  # Check if the word is already in the dictionary\n",
    "            word_count[word] += 1  # Increment the count if it is\n",
    "        else:\n",
    "            word_count[word] = 1  # Initialize the count to 1 if it isn't\n",
    "    return word_count  # Return the dictionary with word counts\n",
    "\n",
    "counts = count_multiple_word_occurrences(correct_task)\n",
    "print(counts)"
   ]
  },
  {
   "cell_type": "markdown",
   "id": "c759f987-4330-468f-9abd-e942b53c69a5",
   "metadata": {},
   "source": [
    "here we create a function to count the frequency of occurence of a word by creating a new dictionary"
   ]
  },
  {
   "cell_type": "code",
   "execution_count": 8,
   "id": "351b44f3-eb81-40cb-9d7d-6b2e2b1d751d",
   "metadata": {},
   "outputs": [
    {
     "data": {
      "image/png": "[encoded data removed]",
      "text/plain": [
       "<Figure size 1100x600 with 1 Axes>"
      ]
     },
     "metadata": {},
     "output_type": "display_data"
    }
   ],
   "source": [
    "plt.figure(figsize=(11,6))\n",
    "plt.xlabel(\"Career Options\",fontsize=15)\n",
    "plt.ylabel(\"Frequency of Career Options\",fontsize=15)\n",
    "plt.title(\"Bar Graph\",fontsize=20)\n",
    "plt.bar(career_options,counts.values(),width=0.6)\n",
    "plt.show()"
   ]
  },
  {
   "cell_type": "markdown",
   "id": "00bbe77d-0d33-4434-9022-8b7f66ec8349",
   "metadata": {},
   "source": [
    "Plotting the bar graph"
   ]
  },
  {
   "cell_type": "code",
   "execution_count": null,
   "id": "0771fada-62ec-4051-907c-6aa0b3137316",
   "metadata": {},
   "outputs": [],
   "source": []
  }
 ],
 "metadata": {
  "kernelspec": {
   "display_name": "Python 3 (ipykernel)",
   "language": "python",
   "name": "python3"
  },
  "language_info": {
   "codemirror_mode": {
    "name": "ipython",
    "version": 3
   },
   "file_extension": ".py",
   "mimetype": "text/x-python",
   "name": "python",
   "nbconvert_exporter": "python",
   "pygments_lexer": "ipython3",
   "version": "3.12.3"
  }
 },
 "nbformat": 4,
 "nbformat_minor": 5
}
